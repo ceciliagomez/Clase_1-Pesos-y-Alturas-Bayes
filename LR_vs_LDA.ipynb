{
  "nbformat": 4,
  "nbformat_minor": 0,
  "metadata": {
    "colab": {
      "name": "LR vs LDA.ipynb",
      "provenance": [],
      "authorship_tag": "ABX9TyMTeD1ebl72IY+hkm1nGLzh",
      "include_colab_link": true
    },
    "kernelspec": {
      "name": "python3",
      "display_name": "Python 3"
    }
  },
  "cells": [
    {
      "cell_type": "markdown",
      "metadata": {
        "id": "view-in-github",
        "colab_type": "text"
      },
      "source": [
        "<a href=\"https://colab.research.google.com/github/deeplearning-itba/Clase_1-Pesos-y-Alturas-Bayes/blob/master/LR_vs_LDA.ipynb\" target=\"_parent\"><img src=\"https://colab.research.google.com/assets/colab-badge.svg\" alt=\"Open In Colab\"/></a>"
      ]
    },
    {
      "cell_type": "code",
      "metadata": {
        "id": "sNAU81-7CeIM",
        "colab_type": "code",
        "colab": {}
      },
      "source": [
        "import numpy as np\n",
        "from matplotlib import pyplot as plt"
      ],
      "execution_count": 0,
      "outputs": []
    },
    {
      "cell_type": "code",
      "metadata": {
        "id": "MzQCGggqCitG",
        "colab_type": "code",
        "colab": {}
      },
      "source": [
        "def get_dataset(N = 100_000, seed=1, \n",
        "                means_1 = np.array([0,0]), \n",
        "                means_2 = np.array([2, 2]), \n",
        "                cov_mat = np.array([[1,0.75], [0.75,1]])):\n",
        "  np.random.seed(seed)\n",
        "  \n",
        "  x1 = np.random.multivariate_normal(means_1, cov_mat, N)\n",
        "  x2 = np.random.multivariate_normal(means_2, cov_mat, N)\n",
        "  X = np.vstack([x1, x2])\n",
        "  y = np.hstack([[0]*len(x1), [1]*len(x2)]) \n",
        "  return X,y"
      ],
      "execution_count": 0,
      "outputs": []
    },
    {
      "cell_type": "code",
      "metadata": {
        "id": "pJR4gM2QX-CL",
        "colab_type": "code",
        "colab": {}
      },
      "source": [
        "cov_mat = np.array([[1,0.75, 0.75], [0.75, 1, 0.75], [0.75, 0.75,1]])\n",
        "means_1 = np.array([0,0, 0])\n",
        "means_2 = np.array([4, 4, 4]) "
      ],
      "execution_count": 0,
      "outputs": []
    },
    {
      "cell_type": "code",
      "metadata": {
        "id": "KpUzM_1QdW82",
        "colab_type": "code",
        "colab": {
          "base_uri": "https://localhost:8080/",
          "height": 68
        },
        "outputId": "bec7efb9-40cc-4af7-d9c5-24a5d81f603c"
      },
      "source": [
        "cov_mat"
      ],
      "execution_count": 195,
      "outputs": [
        {
          "output_type": "execute_result",
          "data": {
            "text/plain": [
              "array([[1.  , 0.75, 0.75],\n",
              "       [0.75, 1.  , 0.75],\n",
              "       [0.75, 0.75, 1.  ]])"
            ]
          },
          "metadata": {
            "tags": []
          },
          "execution_count": 195
        }
      ]
    },
    {
      "cell_type": "code",
      "metadata": {
        "id": "C3k6NGOBECE0",
        "colab_type": "code",
        "colab": {}
      },
      "source": [
        "X, y = get_dataset(N=100, cov_mat=cov_mat, means_1=means_1, means_2=means_2)"
      ],
      "execution_count": 0,
      "outputs": []
    },
    {
      "cell_type": "code",
      "metadata": {
        "id": "ZkmvAbN9E1hL",
        "colab_type": "code",
        "outputId": "988421fc-5e83-449d-95a4-10a28dc7061a",
        "colab": {
          "base_uri": "https://localhost:8080/",
          "height": 34
        }
      },
      "source": [
        "X.shape, y.shape"
      ],
      "execution_count": 197,
      "outputs": [
        {
          "output_type": "execute_result",
          "data": {
            "text/plain": [
              "((200, 3), (200,))"
            ]
          },
          "metadata": {
            "tags": []
          },
          "execution_count": 197
        }
      ]
    },
    {
      "cell_type": "code",
      "metadata": {
        "id": "aQ8FcAraC-oP",
        "colab_type": "code",
        "outputId": "74603b7b-d218-4136-9700-b28f82c72fb1",
        "colab": {
          "base_uri": "https://localhost:8080/",
          "height": 282
        }
      },
      "source": [
        "plt.scatter(*X.T[:2, :], c=y)"
      ],
      "execution_count": 198,
      "outputs": [
        {
          "output_type": "execute_result",
          "data": {
            "text/plain": [
              "<matplotlib.collections.PathCollection at 0x7f72f631b5f8>"
            ]
          },
          "metadata": {
            "tags": []
          },
          "execution_count": 198
        },
        {
          "output_type": "display_data",
          "data": {
            "image/png": "[encoded data removed]",
            "text/plain": [
              "<Figure size 432x288 with 1 Axes>"
            ]
          },
          "metadata": {
            "tags": [],
            "needs_background": "light"
          }
        }
      ]
    },
    {
      "cell_type": "code",
      "metadata": {
        "id": "UDvFhJjKC3FS",
        "colab_type": "code",
        "colab": {}
      },
      "source": [
        "from sklearn.linear_model import LogisticRegression\n",
        "from sklearn.discriminant_analysis import LinearDiscriminantAnalysis"
      ],
      "execution_count": 0,
      "outputs": []
    },
    {
      "cell_type": "code",
      "metadata": {
        "id": "6CM0iTkjMUZp",
        "colab_type": "code",
        "colab": {}
      },
      "source": [
        "Ns = np.logspace(1, 6, 30)"
      ],
      "execution_count": 0,
      "outputs": []
    },
    {
      "cell_type": "code",
      "metadata": {
        "id": "baJyLvxgD0t6",
        "colab_type": "code",
        "outputId": "4508abf0-f848-4974-c95d-cb9402ba947c",
        "colab": {
          "base_uri": "https://localhost:8080/",
          "height": 527
        }
      },
      "source": [
        "LDA_results_C = []\n",
        "LR_results_C = []\n",
        "LDA_results_W1 = []\n",
        "LR_results_W1 = []\n",
        "LDA_results_W2 = []\n",
        "LR_results_W2 = []\n",
        "LDA_results_W3 = []\n",
        "LR_results_W3 = []\n",
        "for i, N in enumerate(Ns):\n",
        "  print(i, int(N))\n",
        "  clf_LR = LogisticRegression()\n",
        "  clf_LDA = LinearDiscriminantAnalysis()\n",
        "  X, y = get_dataset(N=int(N), cov_mat=cov_mat, means_1=means_1, means_2=means_2)\n",
        "  clf_LR.fit(X,y)\n",
        "  clf_LDA.fit(X,y)\n",
        "  LDA_results_C.append(clf_LDA.intercept_)\n",
        "  LR_results_C.append(clf_LR.intercept_)\n",
        "  LDA_results_W1.append(clf_LDA.coef_[0,0])\n",
        "  LR_results_W1.append(clf_LR.coef_[0,0])\n",
        "  LDA_results_W2.append(clf_LDA.coef_[0,1])\n",
        "  LR_results_W2.append(clf_LR.coef_[0,1])\n",
        "  LDA_results_W3.append(clf_LDA.coef_[0,2])\n",
        "  LR_results_W3.append(clf_LR.coef_[0,2])"
      ],
      "execution_count": 201,
      "outputs": [
        {
          "output_type": "stream",
          "text": [
            "0 10\n",
            "1 14\n",
            "2 22\n",
            "3 32\n",
            "4 48\n",
            "5 72\n",
            "6 108\n",
            "7 161\n",
            "8 239\n",
            "9 356\n",
            "10 529\n",
            "11 788\n",
            "12 1172\n",
            "13 1743\n",
            "14 2592\n",
            "15 3856\n",
            "16 5736\n",
            "17 8531\n",
            "18 12689\n",
            "19 18873\n",
            "20 28072\n",
            "21 41753\n",
            "22 62101\n",
            "23 92367\n",
            "24 137382\n",
            "25 204335\n",
            "26 303919\n",
            "27 452035\n",
            "28 672335\n",
            "29 1000000\n"
          ],
          "name": "stdout"
        }
      ]
    },
    {
      "cell_type": "code",
      "metadata": {
        "id": "ZuBA5n4QYbZ5",
        "colab_type": "code",
        "colab": {}
      },
      "source": [
        "W1, W2, W3 = -np.linalg.inv(cov_mat).dot((means_1-means_2).reshape(-1,1))\n",
        "C = np.dot((means_1+means_2).reshape(1, -1), np.linalg.inv(cov_mat)).dot(means_1-means_2)/2"
      ],
      "execution_count": 0,
      "outputs": []
    },
    {
      "cell_type": "code",
      "metadata": {
        "id": "-mpqcz_LD7oJ",
        "colab_type": "code",
        "outputId": "a459fdfe-0084-480c-8edb-07fc451a7ab7",
        "colab": {
          "base_uri": "https://localhost:8080/",
          "height": 285
        }
      },
      "source": [
        "plt.title('Intercept - C')\n",
        "plt.semilogx(Ns, LDA_results_C, label='LDA')\n",
        "plt.semilogx(Ns, LR_results_C, label='Regresión Logística')\n",
        "plt.semilogx(Ns, [C]*len(Ns), label='Teórico')\n",
        "plt.legend()\n",
        "plt.show()"
      ],
      "execution_count": 203,
      "outputs": [
        {
          "output_type": "display_data",
          "data": {
            "image/png": "[encoded data removed]",
            "text/plain": [
              "<Figure size 432x288 with 1 Axes>"
            ]
          },
          "metadata": {
            "tags": [],
            "needs_background": "light"
          }
        }
      ]
    },
    {
      "cell_type": "code",
      "metadata": {
        "id": "smhOIsyDO3QO",
        "colab_type": "code",
        "outputId": "a0726d6c-0d67-4e40-f7dc-b484e126ebd5",
        "colab": {
          "base_uri": "https://localhost:8080/",
          "height": 286
        }
      },
      "source": [
        "plt.title('$W_1$')\n",
        "plt.semilogx(Ns, LDA_results_W1, label='LDA')\n",
        "plt.semilogx(Ns, LR_results_W1, label='Regresión Logística')\n",
        "plt.semilogx(Ns, [W1]*len(Ns), label='Teórico')\n",
        "plt.legend()\n",
        "plt.show()"
      ],
      "execution_count": 204,
      "outputs": [
        {
          "output_type": "display_data",
          "data": {
            "image/png": "[encoded data removed]",
            "text/plain": [
              "<Figure size 432x288 with 1 Axes>"
            ]
          },
          "metadata": {
            "tags": [],
            "needs_background": "light"
          }
        }
      ]
    },
    {
      "cell_type": "code",
      "metadata": {
        "id": "qeTdXOahO783",
        "colab_type": "code",
        "outputId": "50abe6ab-bd0c-45bb-def6-cf6b7303b438",
        "colab": {
          "base_uri": "https://localhost:8080/",
          "height": 286
        }
      },
      "source": [
        "plt.title('$W_2$')\n",
        "plt.semilogx(Ns, LDA_results_W2, label='LDA')\n",
        "plt.semilogx(Ns, LR_results_W2, label='Regresión Logística')\n",
        "plt.semilogx(Ns, [W2]*len(Ns), label='Teórico')\n",
        "plt.legend()\n",
        "plt.show()"
      ],
      "execution_count": 205,
      "outputs": [
        {
          "output_type": "display_data",
          "data": {
            "image/png": "[encoded data removed]",
            "text/plain": [
              "<Figure size 432x288 with 1 Axes>"
            ]
          },
          "metadata": {
            "tags": [],
            "needs_background": "light"
          }
        }
      ]
    },
    {
      "cell_type": "code",
      "metadata": {
        "id": "kwyhTDCJcQVZ",
        "colab_type": "code",
        "colab": {
          "base_uri": "https://localhost:8080/",
          "height": 286
        },
        "outputId": "cc752535-690c-4ef4-ceab-29c36922ea7c"
      },
      "source": [
        "plt.title('$W_3$')\n",
        "plt.semilogx(Ns, LDA_results_W3, label='LDA')\n",
        "plt.semilogx(Ns, LR_results_W3, label='Regresión Logística')\n",
        "plt.semilogx(Ns, [W3]*len(Ns), label='Teórico')\n",
        "plt.legend()\n",
        "plt.show()"
      ],
      "execution_count": 206,
      "outputs": [
        {
          "output_type": "display_data",
          "data": {
            "image/png": "[encoded data removed]",
            "text/plain": [
              "<Figure size 432x288 with 1 Axes>"
            ]
          },
          "metadata": {
            "tags": [],
            "needs_background": "light"
          }
        }
      ]
    },
    {
      "cell_type": "code",
      "metadata": {
        "id": "4iqQpFlFE_i8",
        "colab_type": "code",
        "outputId": "a6516215-d304-480f-e205-165ddf6de664",
        "colab": {
          "base_uri": "https://localhost:8080/",
          "height": 34
        }
      },
      "source": [
        "print(clf_LR.coef_, clf_LR.intercept_)"
      ],
      "execution_count": 207,
      "outputs": [
        {
          "output_type": "stream",
          "text": [
            "[[1.60338224 1.59483831 1.61255073]] [-9.62859333]\n"
          ],
          "name": "stdout"
        }
      ]
    },
    {
      "cell_type": "code",
      "metadata": {
        "id": "0IdpiJPhEu9W",
        "colab_type": "code",
        "outputId": "198df3a0-5da4-4dc1-c345-a8f5a65876ea",
        "colab": {
          "base_uri": "https://localhost:8080/",
          "height": 34
        }
      },
      "source": [
        "print(clf_LDA.coef_, clf_LDA.intercept_) "
      ],
      "execution_count": 208,
      "outputs": [
        {
          "output_type": "stream",
          "text": [
            "[[1.59726599 1.60761901 1.60615866]] [-9.62169126]\n"
          ],
          "name": "stdout"
        }
      ]
    },
    {
      "cell_type": "code",
      "metadata": {
        "id": "AbnkBo07IRZY",
        "colab_type": "code",
        "outputId": "e23a0b14-83c9-4f19-f0ad-16c322eedd32",
        "colab": {
          "base_uri": "https://localhost:8080/",
          "height": 51
        }
      },
      "source": [
        "print(clf_LDA.means_)"
      ],
      "execution_count": 210,
      "outputs": [
        {
          "output_type": "stream",
          "text": [
            "[[ 2.77712048e-04  2.85767678e-04 -6.49037531e-05]\n",
            " [ 3.99933578e+00  3.99961248e+00  4.00005797e+00]]\n"
          ],
          "name": "stdout"
        }
      ]
    },
    {
      "cell_type": "code",
      "metadata": {
        "id": "wsoO8kC2F_ci",
        "colab_type": "code",
        "outputId": "b51f0b7e-be6c-42ce-bcda-d96ebfc12450",
        "colab": {
          "base_uri": "https://localhost:8080/",
          "height": 68
        }
      },
      "source": [
        "print(clf_LDA.scalings_)"
      ],
      "execution_count": 211,
      "outputs": [
        {
          "output_type": "stream",
          "text": [
            "[[0.36412841]\n",
            " [0.36648859]\n",
            " [0.36615567]]\n"
          ],
          "name": "stdout"
        }
      ]
    },
    {
      "cell_type": "code",
      "metadata": {
        "id": "_wpFN7XAJPBl",
        "colab_type": "code",
        "outputId": "222b3094-e3df-4a06-971d-aaa681e9e569",
        "colab": {
          "base_uri": "https://localhost:8080/",
          "height": 34
        }
      },
      "source": [
        "clf_LDA.xbar_"
      ],
      "execution_count": 212,
      "outputs": [
        {
          "output_type": "execute_result",
          "data": {
            "text/plain": [
              "array([1.99980675, 1.99994912, 1.99999653])"
            ]
          },
          "metadata": {
            "tags": []
          },
          "execution_count": 212
        }
      ]
    },
    {
      "cell_type": "code",
      "metadata": {
        "id": "gvdE65rUJPYl",
        "colab_type": "code",
        "colab": {}
      },
      "source": [
        ""
      ],
      "execution_count": 0,
      "outputs": []
    },
    {
      "cell_type": "code",
      "metadata": {
        "id": "quH-PtjCHmvX",
        "colab_type": "code",
        "outputId": "452e5c5d-6e90-4260-fe6d-2e3b48fb9a7c",
        "colab": {
          "base_uri": "https://localhost:8080/",
          "height": 51
        }
      },
      "source": [
        "clf_LDA.scalings_"
      ],
      "execution_count": 0,
      "outputs": [
        {
          "output_type": "execute_result",
          "data": {
            "text/plain": [
              "array([[1.13120008],\n",
              "       [0.04750612]])"
            ]
          },
          "metadata": {
            "tags": []
          },
          "execution_count": 73
        }
      ]
    },
    {
      "cell_type": "code",
      "metadata": {
        "id": "BYOCIibvHnSA",
        "colab_type": "code",
        "outputId": "f0e40840-349b-4958-afc3-02755c9975d8",
        "colab": {
          "base_uri": "https://localhost:8080/",
          "height": 51
        }
      },
      "source": [
        "clf_LDA.means_"
      ],
      "execution_count": 0,
      "outputs": [
        {
          "output_type": "execute_result",
          "data": {
            "text/plain": [
              "array([[-0.08129935, -0.38380169],\n",
              "       [ 1.91870065,  1.61619831]])"
            ]
          },
          "metadata": {
            "tags": []
          },
          "execution_count": 74
        }
      ]
    },
    {
      "cell_type": "code",
      "metadata": {
        "id": "tD75bpyzH35X",
        "colab_type": "code",
        "colab": {}
      },
      "source": [
        ""
      ],
      "execution_count": 0,
      "outputs": []
    }
  ]
}