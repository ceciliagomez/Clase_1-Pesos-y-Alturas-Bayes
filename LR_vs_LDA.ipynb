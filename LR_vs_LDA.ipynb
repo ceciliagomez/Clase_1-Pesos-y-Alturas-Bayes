{
  "nbformat": 4,
  "nbformat_minor": 0,
  "metadata": {
    "colab": {
      "name": "LR vs LDA.ipynb",
      "provenance": [],
      "authorship_tag": "ABX9TyMn7o8aTZZq7nn05Y6v9VkW",
      "include_colab_link": true
    },
    "kernelspec": {
      "name": "python3",
      "display_name": "Python 3"
    }
  },
  "cells": [
    {
      "cell_type": "markdown",
      "metadata": {
        "id": "view-in-github",
        "colab_type": "text"
      },
      "source": [
        "<a href=\"https://colab.research.google.com/github/deeplearning-itba/Clase_1-Pesos-y-Alturas-Bayes/blob/master/LR_vs_LDA.ipynb\" target=\"_parent\"><img src=\"https://colab.research.google.com/assets/colab-badge.svg\" alt=\"Open In Colab\"/></a>"
      ]
    },
    {
      "cell_type": "code",
      "metadata": {
        "id": "sNAU81-7CeIM",
        "colab_type": "code",
        "colab": {}
      },
      "source": [
        "import numpy as np\n",
        "from matplotlib import pyplot as plt"
      ],
      "execution_count": 0,
      "outputs": []
    },
    {
      "cell_type": "code",
      "metadata": {
        "id": "MzQCGggqCitG",
        "colab_type": "code",
        "colab": {}
      },
      "source": [
        "def get_dataset(N = 100_000, seed=1, means_1 = np.array([0,0]), means_2 = np.array([2, 2]), cov_mat = np.array([[1,0.75], [0.75,1]])):\n",
        "  np.random.seed(seed)\n",
        "  \n",
        "  x1 = np.random.multivariate_normal(means_1, cov_mat, N)\n",
        "  x2 = np.array(means_2) + x1\n",
        "  X = np.vstack([x1, x2])\n",
        "  y = np.hstack([[0]*len(x1), [1]*len(x2)]) \n",
        "  return X,y"
      ],
      "execution_count": 0,
      "outputs": []
    },
    {
      "cell_type": "code",
      "metadata": {
        "id": "C3k6NGOBECE0",
        "colab_type": "code",
        "colab": {}
      },
      "source": [
        "X, y = get_dataset(N=100)"
      ],
      "execution_count": 0,
      "outputs": []
    },
    {
      "cell_type": "code",
      "metadata": {
        "id": "ZkmvAbN9E1hL",
        "colab_type": "code",
        "colab": {
          "base_uri": "https://localhost:8080/",
          "height": 34
        },
        "outputId": "0ca07941-4e62-436a-94d0-d42cb5d25119"
      },
      "source": [
        "X.shape, y.shape"
      ],
      "execution_count": 141,
      "outputs": [
        {
          "output_type": "execute_result",
          "data": {
            "text/plain": [
              "((200, 2), (200,))"
            ]
          },
          "metadata": {
            "tags": []
          },
          "execution_count": 141
        }
      ]
    },
    {
      "cell_type": "code",
      "metadata": {
        "id": "aQ8FcAraC-oP",
        "colab_type": "code",
        "colab": {
          "base_uri": "https://localhost:8080/",
          "height": 282
        },
        "outputId": "a7cb5723-cdbd-4e50-e666-fa1fe547b7e5"
      },
      "source": [
        "plt.scatter(*X.T, c=y)"
      ],
      "execution_count": 142,
      "outputs": [
        {
          "output_type": "execute_result",
          "data": {
            "text/plain": [
              "<matplotlib.collections.PathCollection at 0x7fdcebac07f0>"
            ]
          },
          "metadata": {
            "tags": []
          },
          "execution_count": 142
        },
        {
          "output_type": "display_data",
          "data": {
            "image/png": "[encoded data removed]",
            "text/plain": [
              "<Figure size 432x288 with 1 Axes>"
            ]
          },
          "metadata": {
            "tags": [],
            "needs_background": "light"
          }
        }
      ]
    },
    {
      "cell_type": "code",
      "metadata": {
        "id": "UDvFhJjKC3FS",
        "colab_type": "code",
        "colab": {}
      },
      "source": [
        "from sklearn.linear_model import LogisticRegression\n",
        "from sklearn.discriminant_analysis import LinearDiscriminantAnalysis"
      ],
      "execution_count": 0,
      "outputs": []
    },
    {
      "cell_type": "code",
      "metadata": {
        "id": "6CM0iTkjMUZp",
        "colab_type": "code",
        "colab": {}
      },
      "source": [
        "Ns = np.logspace(1, 5, 30)"
      ],
      "execution_count": 0,
      "outputs": []
    },
    {
      "cell_type": "code",
      "metadata": {
        "id": "RT8fbJgsOW_B",
        "colab_type": "code",
        "colab": {
          "base_uri": "https://localhost:8080/",
          "height": 34
        },
        "outputId": "0b090548-985a-4200-ebac-0ae40778bb9d"
      },
      "source": [
        "clf_LDA.coef_[0,0]"
      ],
      "execution_count": 169,
      "outputs": [
        {
          "output_type": "execute_result",
          "data": {
            "text/plain": [
              "1.1443765428740922"
            ]
          },
          "metadata": {
            "tags": []
          },
          "execution_count": 169
        }
      ]
    },
    {
      "cell_type": "code",
      "metadata": {
        "id": "baJyLvxgD0t6",
        "colab_type": "code",
        "colab": {
          "base_uri": "https://localhost:8080/",
          "height": 527
        },
        "outputId": "0b28e346-5352-47aa-c65a-e584b8311b4b"
      },
      "source": [
        "LDA_results_C = []\n",
        "LR_results_C = []\n",
        "LDA_results_W1 = []\n",
        "LR_results_W1 = []\n",
        "LDA_results_W2 = []\n",
        "LR_results_W2 = []\n",
        "for i, N in enumerate(Ns):\n",
        "  print(i, N)\n",
        "  clf_LR = LogisticRegression()\n",
        "  clf_LDA = LinearDiscriminantAnalysis()\n",
        "  X, y = get_dataset(int(N))\n",
        "  clf_LR.fit(X,y)\n",
        "  clf_LDA.fit(X,y)\n",
        "  LDA_results_C.append(clf_LDA.intercept_)\n",
        "  LR_results_C.append(clf_LR.intercept_)\n",
        "  LDA_results_W1.append(clf_LDA.coef_[0,0])\n",
        "  LR_results_W1.append(clf_LR.coef_[0,0])\n",
        "  LDA_results_W2.append(clf_LDA.coef_[0,1])\n",
        "  LR_results_W2.append(clf_LR.coef_[0,1])"
      ],
      "execution_count": 170,
      "outputs": [
        {
          "output_type": "stream",
          "text": [
            "0 10.0\n",
            "1 13.73823795883263\n",
            "2 18.873918221350976\n",
            "3 25.92943797404667\n",
            "4 35.62247890262442\n",
            "5 48.93900918477494\n",
            "6 67.23357536499334\n",
            "7 92.36708571873861\n",
            "8 126.89610031679221\n",
            "9 174.33288221999874\n",
            "10 239.5026619987486\n",
            "11 329.03445623126674\n",
            "12 452.03536563602404\n",
            "13 621.0169418915616\n",
            "14 853.1678524172805\n",
            "15 1172.1022975334806\n",
            "16 1610.2620275609393\n",
            "17 2212.216291070448\n",
            "18 3039.195382313198\n",
            "19 4175.3189365604\n",
            "20 5736.152510448682\n",
            "21 7880.462815669913\n",
            "22 10826.36733874054\n",
            "23 14873.521072935118\n",
            "24 20433.597178569395\n",
            "25 28072.162039411756\n",
            "26 38566.20421163472\n",
            "27 52983.16906283702\n",
            "28 72789.53843983146\n",
            "29 100000.0\n"
          ],
          "name": "stdout"
        }
      ]
    },
    {
      "cell_type": "code",
      "metadata": {
        "id": "-mpqcz_LD7oJ",
        "colab_type": "code",
        "colab": {
          "base_uri": "https://localhost:8080/",
          "height": 302
        },
        "outputId": "4a1cd2e4-cae1-4b4d-f14d-633bbf6e46bd"
      },
      "source": [
        "plt.title('Intercept - C')\n",
        "plt.semilogx(Ns, LDA_results_C, label='LDA')\n",
        "plt.semilogx(Ns, LR_results_C, label='Regresión Logística')\n",
        "plt.legend()"
      ],
      "execution_count": 176,
      "outputs": [
        {
          "output_type": "execute_result",
          "data": {
            "text/plain": [
              "<matplotlib.legend.Legend at 0x7fdceaf32d68>"
            ]
          },
          "metadata": {
            "tags": []
          },
          "execution_count": 176
        },
        {
          "output_type": "display_data",
          "data": {
            "image/png": "[encoded data removed]",
            "text/plain": [
              "<Figure size 432x288 with 1 Axes>"
            ]
          },
          "metadata": {
            "tags": [],
            "needs_background": "light"
          }
        }
      ]
    },
    {
      "cell_type": "code",
      "metadata": {
        "id": "smhOIsyDO3QO",
        "colab_type": "code",
        "colab": {
          "base_uri": "https://localhost:8080/",
          "height": 303
        },
        "outputId": "7d1c987d-768f-443b-9969-7f9627134597"
      },
      "source": [
        "plt.title('$W_1$')\n",
        "plt.semilogx(Ns, LDA_results_W1, label='LDA')\n",
        "plt.semilogx(Ns, LR_results_W1, label='Regresión Logística')\n",
        "plt.legend()"
      ],
      "execution_count": 180,
      "outputs": [
        {
          "output_type": "execute_result",
          "data": {
            "text/plain": [
              "<matplotlib.legend.Legend at 0x7fdceab33f98>"
            ]
          },
          "metadata": {
            "tags": []
          },
          "execution_count": 180
        },
        {
          "output_type": "display_data",
          "data": {
            "image/png": "[encoded data removed]",
            "text/plain": [
              "<Figure size 432x288 with 1 Axes>"
            ]
          },
          "metadata": {
            "tags": [],
            "needs_background": "light"
          }
        }
      ]
    },
    {
      "cell_type": "code",
      "metadata": {
        "id": "qeTdXOahO783",
        "colab_type": "code",
        "colab": {
          "base_uri": "https://localhost:8080/",
          "height": 303
        },
        "outputId": "b9d8f5a6-7f97-4d3e-dda8-c87a31c98202"
      },
      "source": [
        "plt.title('$W_2$')\n",
        "plt.semilogx(Ns, LDA_results_W2, label='LDA')\n",
        "plt.semilogx(Ns, LR_results_W2, label='Regresión Logística')\n",
        "plt.legend()"
      ],
      "execution_count": 181,
      "outputs": [
        {
          "output_type": "execute_result",
          "data": {
            "text/plain": [
              "<matplotlib.legend.Legend at 0x7fdceaa16978>"
            ]
          },
          "metadata": {
            "tags": []
          },
          "execution_count": 181
        },
        {
          "output_type": "display_data",
          "data": {
            "image/png": "[encoded data removed]",
            "text/plain": [
              "<Figure size 432x288 with 1 Axes>"
            ]
          },
          "metadata": {
            "tags": [],
            "needs_background": "light"
          }
        }
      ]
    },
    {
      "cell_type": "code",
      "metadata": {
        "id": "4iqQpFlFE_i8",
        "colab_type": "code",
        "colab": {
          "base_uri": "https://localhost:8080/",
          "height": 34
        },
        "outputId": "78c40929-ef2b-4157-9504-b54ed2780cf5"
      },
      "source": [
        "print(clf_LR.coef_, clf_LR.intercept_)"
      ],
      "execution_count": 122,
      "outputs": [
        {
          "output_type": "stream",
          "text": [
            "[[1.14887956 1.13699894]] [-2.27305868]\n"
          ],
          "name": "stdout"
        }
      ]
    },
    {
      "cell_type": "code",
      "metadata": {
        "id": "0IdpiJPhEu9W",
        "colab_type": "code",
        "colab": {
          "base_uri": "https://localhost:8080/",
          "height": 34
        },
        "outputId": "9e43d95f-fa5e-48a5-af45-1a6387f7ee90"
      },
      "source": [
        "print(clf_LDA.coef_, clf_LDA.intercept_) "
      ],
      "execution_count": 123,
      "outputs": [
        {
          "output_type": "stream",
          "text": [
            "[[1.14690334 1.13585015]] [-2.27031283]\n"
          ],
          "name": "stdout"
        }
      ]
    },
    {
      "cell_type": "code",
      "metadata": {
        "id": "AbnkBo07IRZY",
        "colab_type": "code",
        "colab": {
          "base_uri": "https://localhost:8080/",
          "height": 68
        },
        "outputId": "19d84d8e-1f16-4407-d1b8-59463a25a031"
      },
      "source": [
        "print(clf_LDA.means_, clf_LDA.scalings_)"
      ],
      "execution_count": 113,
      "outputs": [
        {
          "output_type": "stream",
          "text": [
            "[[-0.08129935 -0.38380169]\n",
            " [ 1.91870065  1.61619831]] [[1.13120008]\n",
            " [0.04750612]]\n"
          ],
          "name": "stdout"
        }
      ]
    },
    {
      "cell_type": "code",
      "metadata": {
        "id": "wsoO8kC2F_ci",
        "colab_type": "code",
        "colab": {
          "base_uri": "https://localhost:8080/",
          "height": 51
        },
        "outputId": "36288476-5afe-43ac-8ef3-9a6bc825e600"
      },
      "source": [
        "np.linalg.inv(cov_mat).dot((means_1-means_2).reshape(2,1)) #.reshape(2,1)"
      ],
      "execution_count": 125,
      "outputs": [
        {
          "output_type": "execute_result",
          "data": {
            "text/plain": [
              "array([[-1.14285714],\n",
              "       [-1.14285714]])"
            ]
          },
          "metadata": {
            "tags": []
          },
          "execution_count": 125
        }
      ]
    },
    {
      "cell_type": "code",
      "metadata": {
        "id": "_wpFN7XAJPBl",
        "colab_type": "code",
        "colab": {
          "base_uri": "https://localhost:8080/",
          "height": 34
        },
        "outputId": "069b5b40-e7af-4763-8335-d595364fe8f7"
      },
      "source": [
        "-np.dot((means_1+means_2).reshape(1, 2), np.linalg.inv(cov_mat)).dot(means_1-means_2)/2"
      ],
      "execution_count": 132,
      "outputs": [
        {
          "output_type": "execute_result",
          "data": {
            "text/plain": [
              "array([2.28571429])"
            ]
          },
          "metadata": {
            "tags": []
          },
          "execution_count": 132
        }
      ]
    },
    {
      "cell_type": "code",
      "metadata": {
        "id": "gvdE65rUJPYl",
        "colab_type": "code",
        "colab": {}
      },
      "source": [
        ""
      ],
      "execution_count": 0,
      "outputs": []
    },
    {
      "cell_type": "code",
      "metadata": {
        "id": "quH-PtjCHmvX",
        "colab_type": "code",
        "colab": {
          "base_uri": "https://localhost:8080/",
          "height": 51
        },
        "outputId": "452e5c5d-6e90-4260-fe6d-2e3b48fb9a7c"
      },
      "source": [
        "clf_LDA.scalings_"
      ],
      "execution_count": 73,
      "outputs": [
        {
          "output_type": "execute_result",
          "data": {
            "text/plain": [
              "array([[1.13120008],\n",
              "       [0.04750612]])"
            ]
          },
          "metadata": {
            "tags": []
          },
          "execution_count": 73
        }
      ]
    },
    {
      "cell_type": "code",
      "metadata": {
        "id": "BYOCIibvHnSA",
        "colab_type": "code",
        "colab": {
          "base_uri": "https://localhost:8080/",
          "height": 51
        },
        "outputId": "f0e40840-349b-4958-afc3-02755c9975d8"
      },
      "source": [
        "clf_LDA.means_"
      ],
      "execution_count": 74,
      "outputs": [
        {
          "output_type": "execute_result",
          "data": {
            "text/plain": [
              "array([[-0.08129935, -0.38380169],\n",
              "       [ 1.91870065,  1.61619831]])"
            ]
          },
          "metadata": {
            "tags": []
          },
          "execution_count": 74
        }
      ]
    },
    {
      "cell_type": "code",
      "metadata": {
        "id": "tD75bpyzH35X",
        "colab_type": "code",
        "colab": {}
      },
      "source": [
        ""
      ],
      "execution_count": 0,
      "outputs": []
    }
  ]
}