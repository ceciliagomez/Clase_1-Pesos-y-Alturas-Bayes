{
  "nbformat": 4,
  "nbformat_minor": 0,
  "metadata": {
    "colab": {
      "name": "LR vs LDA.ipynb",
      "provenance": [],
      "authorship_tag": "ABX9TyPDXg+1SlTv8cClavrnxpbO",
      "include_colab_link": true
    },
    "kernelspec": {
      "name": "python3",
      "display_name": "Python 3"
    }
  },
  "cells": [
    {
      "cell_type": "markdown",
      "metadata": {
        "id": "view-in-github",
        "colab_type": "text"
      },
      "source": [
        "<a href=\"https://colab.research.google.com/github/deeplearning-itba/Clase_1-Pesos-y-Alturas-Bayes/blob/master/LR_vs_LDA.ipynb\" target=\"_parent\"><img src=\"https://colab.research.google.com/assets/colab-badge.svg\" alt=\"Open In Colab\"/></a>"
      ]
    },
    {
      "cell_type": "code",
      "metadata": {
        "id": "sNAU81-7CeIM",
        "colab_type": "code",
        "colab": {}
      },
      "source": [
        "import numpy as np\n",
        "from matplotlib import pyplot as plt"
      ],
      "execution_count": 0,
      "outputs": []
    },
    {
      "cell_type": "code",
      "metadata": {
        "id": "MzQCGggqCitG",
        "colab_type": "code",
        "colab": {}
      },
      "source": [
        "def get_dataset(N = 100_000, seed=1, \n",
        "                means_1 = np.array([0,0]), \n",
        "                means_2 = np.array([2, 2]), \n",
        "                cov_mat = np.array([[1,0.75], [0.75,1]])):\n",
        "  np.random.seed(seed)\n",
        "  \n",
        "  x1 = np.random.multivariate_normal(means_1, cov_mat, N)\n",
        "  x2 = np.random.multivariate_normal(means_2, cov_mat, N)\n",
        "  X = np.vstack([x1, x2])\n",
        "  y = np.hstack([[0]*len(x1), [1]*len(x2)]) \n",
        "  return X,y"
      ],
      "execution_count": 0,
      "outputs": []
    },
    {
      "cell_type": "code",
      "metadata": {
        "id": "pJR4gM2QX-CL",
        "colab_type": "code",
        "colab": {}
      },
      "source": [
        "cov_mat = np.array([[1,0.75], [0.75,1]])\n",
        "means_1 = np.array([0,0])\n",
        "means_2 = np.array([3, 3]) "
      ],
      "execution_count": 0,
      "outputs": []
    },
    {
      "cell_type": "code",
      "metadata": {
        "id": "C3k6NGOBECE0",
        "colab_type": "code",
        "colab": {}
      },
      "source": [
        "X, y = get_dataset(N=100, cov_mat=cov_mat, means_1=means_1, means_2=means_2)"
      ],
      "execution_count": 0,
      "outputs": []
    },
    {
      "cell_type": "code",
      "metadata": {
        "id": "ZkmvAbN9E1hL",
        "colab_type": "code",
        "outputId": "086605c2-bfb3-4b22-a80a-45612f061ab6",
        "colab": {
          "base_uri": "https://localhost:8080/",
          "height": 34
        }
      },
      "source": [
        "X.shape, y.shape"
      ],
      "execution_count": 120,
      "outputs": [
        {
          "output_type": "execute_result",
          "data": {
            "text/plain": [
              "((200, 2), (200,))"
            ]
          },
          "metadata": {
            "tags": []
          },
          "execution_count": 120
        }
      ]
    },
    {
      "cell_type": "code",
      "metadata": {
        "id": "aQ8FcAraC-oP",
        "colab_type": "code",
        "outputId": "7d1acc5e-1bee-4f24-f6c7-e204a1d64974",
        "colab": {
          "base_uri": "https://localhost:8080/",
          "height": 282
        }
      },
      "source": [
        "plt.scatter(*X.T, c=y)"
      ],
      "execution_count": 121,
      "outputs": [
        {
          "output_type": "execute_result",
          "data": {
            "text/plain": [
              "<matplotlib.collections.PathCollection at 0x7f72f6832828>"
            ]
          },
          "metadata": {
            "tags": []
          },
          "execution_count": 121
        },
        {
          "output_type": "display_data",
          "data": {
            "image/png": "[encoded data removed]",
            "text/plain": [
              "<Figure size 432x288 with 1 Axes>"
            ]
          },
          "metadata": {
            "tags": [],
            "needs_background": "light"
          }
        }
      ]
    },
    {
      "cell_type": "code",
      "metadata": {
        "id": "UDvFhJjKC3FS",
        "colab_type": "code",
        "colab": {}
      },
      "source": [
        "from sklearn.linear_model import LogisticRegression\n",
        "from sklearn.discriminant_analysis import LinearDiscriminantAnalysis"
      ],
      "execution_count": 0,
      "outputs": []
    },
    {
      "cell_type": "code",
      "metadata": {
        "id": "6CM0iTkjMUZp",
        "colab_type": "code",
        "colab": {}
      },
      "source": [
        "Ns = np.logspace(1, 5, 30)"
      ],
      "execution_count": 0,
      "outputs": []
    },
    {
      "cell_type": "code",
      "metadata": {
        "id": "baJyLvxgD0t6",
        "colab_type": "code",
        "outputId": "82c04350-a01d-42b1-84e9-468fbc80a6bd",
        "colab": {
          "base_uri": "https://localhost:8080/",
          "height": 527
        }
      },
      "source": [
        "LDA_results_C = []\n",
        "LR_results_C = []\n",
        "LDA_results_W1 = []\n",
        "LR_results_W1 = []\n",
        "LDA_results_W2 = []\n",
        "LR_results_W2 = []\n",
        "for i, N in enumerate(Ns):\n",
        "  print(i, int(N))\n",
        "  clf_LR = LogisticRegression()\n",
        "  clf_LDA = LinearDiscriminantAnalysis()\n",
        "  X, y = get_dataset(N=int(N), cov_mat=cov_mat, means_1=means_1, means_2=means_2)\n",
        "  clf_LR.fit(X,y)\n",
        "  clf_LDA.fit(X,y)\n",
        "  LDA_results_C.append(clf_LDA.intercept_)\n",
        "  LR_results_C.append(clf_LR.intercept_)\n",
        "  LDA_results_W1.append(clf_LDA.coef_[0,0])\n",
        "  LR_results_W1.append(clf_LR.coef_[0,0])\n",
        "  LDA_results_W2.append(clf_LDA.coef_[0,1])\n",
        "  LR_results_W2.append(clf_LR.coef_[0,1])"
      ],
      "execution_count": 124,
      "outputs": [
        {
          "output_type": "stream",
          "text": [
            "0 10\n",
            "1 13\n",
            "2 18\n",
            "3 25\n",
            "4 35\n",
            "5 48\n",
            "6 67\n",
            "7 92\n",
            "8 126\n",
            "9 174\n",
            "10 239\n",
            "11 329\n",
            "12 452\n",
            "13 621\n",
            "14 853\n",
            "15 1172\n",
            "16 1610\n",
            "17 2212\n",
            "18 3039\n",
            "19 4175\n",
            "20 5736\n",
            "21 7880\n",
            "22 10826\n",
            "23 14873\n",
            "24 20433\n",
            "25 28072\n",
            "26 38566\n",
            "27 52983\n",
            "28 72789\n",
            "29 100000\n"
          ],
          "name": "stdout"
        }
      ]
    },
    {
      "cell_type": "code",
      "metadata": {
        "id": "ZuBA5n4QYbZ5",
        "colab_type": "code",
        "colab": {}
      },
      "source": [
        "W1, W2 = -np.linalg.inv(cov_mat).dot((means_1-means_2).reshape(2,1))\n",
        "C = np.dot((means_1+means_2).reshape(1, 2), np.linalg.inv(cov_mat)).dot(means_1-means_2)/2"
      ],
      "execution_count": 0,
      "outputs": []
    },
    {
      "cell_type": "code",
      "metadata": {
        "id": "-mpqcz_LD7oJ",
        "colab_type": "code",
        "outputId": "4851d2bd-4664-4dd9-ddfe-16761e720ec5",
        "colab": {
          "base_uri": "https://localhost:8080/",
          "height": 285
        }
      },
      "source": [
        "plt.title('Intercept - C')\n",
        "plt.semilogx(Ns, LDA_results_C, label='LDA')\n",
        "plt.semilogx(Ns, LR_results_C, label='Regresión Logística')\n",
        "plt.semilogx(Ns, [C]*len(Ns), label='Teórico')\n",
        "plt.legend()\n",
        "plt.show()"
      ],
      "execution_count": 126,
      "outputs": [
        {
          "output_type": "display_data",
          "data": {
            "image/png": "[encoded data removed]",
            "text/plain": [
              "<Figure size 432x288 with 1 Axes>"
            ]
          },
          "metadata": {
            "tags": [],
            "needs_background": "light"
          }
        }
      ]
    },
    {
      "cell_type": "code",
      "metadata": {
        "id": "smhOIsyDO3QO",
        "colab_type": "code",
        "outputId": "c85505db-332d-4f1a-b77a-a1784db753c2",
        "colab": {
          "base_uri": "https://localhost:8080/",
          "height": 286
        }
      },
      "source": [
        "plt.title('$W_1$')\n",
        "plt.semilogx(Ns, LDA_results_W1, label='LDA')\n",
        "plt.semilogx(Ns, LR_results_W1, label='Regresión Logística')\n",
        "plt.semilogx(Ns, [W1]*len(Ns), label='Teórico')\n",
        "plt.legend()\n",
        "plt.show()"
      ],
      "execution_count": 127,
      "outputs": [
        {
          "output_type": "display_data",
          "data": {
            "image/png": "[encoded data removed]",
            "text/plain": [
              "<Figure size 432x288 with 1 Axes>"
            ]
          },
          "metadata": {
            "tags": [],
            "needs_background": "light"
          }
        }
      ]
    },
    {
      "cell_type": "code",
      "metadata": {
        "id": "qeTdXOahO783",
        "colab_type": "code",
        "outputId": "197752b0-5e41-47c3-b5ad-bf737ec6e630",
        "colab": {
          "base_uri": "https://localhost:8080/",
          "height": 286
        }
      },
      "source": [
        "plt.title('$W_2$')\n",
        "plt.semilogx(Ns, LDA_results_W2, label='LDA')\n",
        "plt.semilogx(Ns, LR_results_W2, label='Regresión Logística')\n",
        "plt.semilogx(Ns, [W2]*len(Ns), label='Teórico')\n",
        "plt.legend()\n",
        "plt.show()"
      ],
      "execution_count": 128,
      "outputs": [
        {
          "output_type": "display_data",
          "data": {
            "image/png": "[encoded data removed]",
            "text/plain": [
              "<Figure size 432x288 with 1 Axes>"
            ]
          },
          "metadata": {
            "tags": [],
            "needs_background": "light"
          }
        }
      ]
    },
    {
      "cell_type": "code",
      "metadata": {
        "id": "4iqQpFlFE_i8",
        "colab_type": "code",
        "outputId": "18f8fd3c-535c-44b4-841a-929c458e155e",
        "colab": {
          "base_uri": "https://localhost:8080/",
          "height": 34
        }
      },
      "source": [
        "print(clf_LR.coef_, clf_LR.intercept_)"
      ],
      "execution_count": 13,
      "outputs": [
        {
          "output_type": "stream",
          "text": [
            "[[1.14630781 1.14329021]] [-2.28863396]\n"
          ],
          "name": "stdout"
        }
      ]
    },
    {
      "cell_type": "code",
      "metadata": {
        "id": "0IdpiJPhEu9W",
        "colab_type": "code",
        "outputId": "475b85be-72e6-4721-9877-5e1badaf1846",
        "colab": {
          "base_uri": "https://localhost:8080/",
          "height": 34
        }
      },
      "source": [
        "print(clf_LDA.coef_, clf_LDA.intercept_) "
      ],
      "execution_count": 14,
      "outputs": [
        {
          "output_type": "stream",
          "text": [
            "[[1.14807865 1.14207564]] [-2.28956831]\n"
          ],
          "name": "stdout"
        }
      ]
    },
    {
      "cell_type": "code",
      "metadata": {
        "id": "AbnkBo07IRZY",
        "colab_type": "code",
        "outputId": "a63abee5-4751-4f93-b1b5-e80069305fb6",
        "colab": {
          "base_uri": "https://localhost:8080/",
          "height": 68
        }
      },
      "source": [
        "print(clf_LDA.means_, clf_LDA.scalings_)"
      ],
      "execution_count": 15,
      "outputs": [
        {
          "output_type": "stream",
          "text": [
            "[[-0.00654651 -0.00434251]\n",
            " [ 2.00414568  2.00572978]] [[0.53505677]\n",
            " [0.53225909]]\n"
          ],
          "name": "stdout"
        }
      ]
    },
    {
      "cell_type": "code",
      "metadata": {
        "id": "wsoO8kC2F_ci",
        "colab_type": "code",
        "colab": {}
      },
      "source": [
        ""
      ],
      "execution_count": 0,
      "outputs": []
    },
    {
      "cell_type": "code",
      "metadata": {
        "id": "_wpFN7XAJPBl",
        "colab_type": "code",
        "colab": {}
      },
      "source": [
        ""
      ],
      "execution_count": 0,
      "outputs": []
    },
    {
      "cell_type": "code",
      "metadata": {
        "id": "gvdE65rUJPYl",
        "colab_type": "code",
        "colab": {}
      },
      "source": [
        ""
      ],
      "execution_count": 0,
      "outputs": []
    },
    {
      "cell_type": "code",
      "metadata": {
        "id": "quH-PtjCHmvX",
        "colab_type": "code",
        "outputId": "452e5c5d-6e90-4260-fe6d-2e3b48fb9a7c",
        "colab": {
          "base_uri": "https://localhost:8080/",
          "height": 51
        }
      },
      "source": [
        "clf_LDA.scalings_"
      ],
      "execution_count": 0,
      "outputs": [
        {
          "output_type": "execute_result",
          "data": {
            "text/plain": [
              "array([[1.13120008],\n",
              "       [0.04750612]])"
            ]
          },
          "metadata": {
            "tags": []
          },
          "execution_count": 73
        }
      ]
    },
    {
      "cell_type": "code",
      "metadata": {
        "id": "BYOCIibvHnSA",
        "colab_type": "code",
        "outputId": "f0e40840-349b-4958-afc3-02755c9975d8",
        "colab": {
          "base_uri": "https://localhost:8080/",
          "height": 51
        }
      },
      "source": [
        "clf_LDA.means_"
      ],
      "execution_count": 0,
      "outputs": [
        {
          "output_type": "execute_result",
          "data": {
            "text/plain": [
              "array([[-0.08129935, -0.38380169],\n",
              "       [ 1.91870065,  1.61619831]])"
            ]
          },
          "metadata": {
            "tags": []
          },
          "execution_count": 74
        }
      ]
    },
    {
      "cell_type": "code",
      "metadata": {
        "id": "tD75bpyzH35X",
        "colab_type": "code",
        "colab": {}
      },
      "source": [
        ""
      ],
      "execution_count": 0,
      "outputs": []
    }
  ]
}