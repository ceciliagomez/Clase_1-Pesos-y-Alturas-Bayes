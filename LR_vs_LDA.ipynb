{
  "nbformat": 4,
  "nbformat_minor": 0,
  "metadata": {
    "colab": {
      "name": "LR vs LDA.ipynb",
      "provenance": [],
      "authorship_tag": "ABX9TyNJGu6WSrNkfT2VZOLNBsWS",
      "include_colab_link": true
    },
    "kernelspec": {
      "name": "python3",
      "display_name": "Python 3"
    }
  },
  "cells": [
    {
      "cell_type": "markdown",
      "metadata": {
        "id": "view-in-github",
        "colab_type": "text"
      },
      "source": [
        "<a href=\"https://colab.research.google.com/github/deeplearning-itba/Clase_1-Pesos-y-Alturas-Bayes/blob/master/LR_vs_LDA.ipynb\" target=\"_parent\"><img src=\"https://colab.research.google.com/assets/colab-badge.svg\" alt=\"Open In Colab\"/></a>"
      ]
    },
    {
      "cell_type": "code",
      "metadata": {
        "id": "sNAU81-7CeIM",
        "colab_type": "code",
        "colab": {}
      },
      "source": [
        "import numpy as np\n",
        "from matplotlib import pyplot as plt"
      ],
      "execution_count": 0,
      "outputs": []
    },
    {
      "cell_type": "code",
      "metadata": {
        "id": "MzQCGggqCitG",
        "colab_type": "code",
        "colab": {}
      },
      "source": [
        "def get_dataset(N = 100_000, seed=1, \n",
        "                means_1 = np.array([0,0]), \n",
        "                means_2 = np.array([2, 2]), \n",
        "                cov_mat = np.array([[1,0.75], [0.75,1]])):\n",
        "  np.random.seed(seed)\n",
        "  \n",
        "  x1 = np.random.multivariate_normal(means_1, cov_mat, N)\n",
        "  x2 = np.random.multivariate_normal(means_2, cov_mat, N)\n",
        "  X = np.vstack([x1, x2])\n",
        "  y = np.hstack([[0]*len(x1), [1]*len(x2)]) \n",
        "  return X,y"
      ],
      "execution_count": 0,
      "outputs": []
    },
    {
      "cell_type": "code",
      "metadata": {
        "id": "pJR4gM2QX-CL",
        "colab_type": "code",
        "colab": {}
      },
      "source": [
        "cov_mat = np.array([[1,0.75, 0.75], [0.75, 1, 0.75], [0.75, 0.75,1]])\n",
        "means_1 = np.array([0,0, 0])\n",
        "means_2 = np.array([3, 3, 0]) "
      ],
      "execution_count": 0,
      "outputs": []
    },
    {
      "cell_type": "code",
      "metadata": {
        "id": "KpUzM_1QdW82",
        "colab_type": "code",
        "colab": {
          "base_uri": "https://localhost:8080/",
          "height": 68
        },
        "outputId": "b4357066-8535-409e-d2a1-5db5553a8cc9"
      },
      "source": [
        "cov_mat"
      ],
      "execution_count": 164,
      "outputs": [
        {
          "output_type": "execute_result",
          "data": {
            "text/plain": [
              "array([[1.  , 0.75, 0.75],\n",
              "       [0.75, 1.  , 0.75],\n",
              "       [0.75, 0.75, 1.  ]])"
            ]
          },
          "metadata": {
            "tags": []
          },
          "execution_count": 164
        }
      ]
    },
    {
      "cell_type": "code",
      "metadata": {
        "id": "C3k6NGOBECE0",
        "colab_type": "code",
        "colab": {}
      },
      "source": [
        "X, y = get_dataset(N=100, cov_mat=cov_mat, means_1=means_1, means_2=means_2)"
      ],
      "execution_count": 0,
      "outputs": []
    },
    {
      "cell_type": "code",
      "metadata": {
        "id": "ZkmvAbN9E1hL",
        "colab_type": "code",
        "outputId": "b7af21b6-236c-449f-b500-8aa23d993fbd",
        "colab": {
          "base_uri": "https://localhost:8080/",
          "height": 34
        }
      },
      "source": [
        "X.shape, y.shape"
      ],
      "execution_count": 154,
      "outputs": [
        {
          "output_type": "execute_result",
          "data": {
            "text/plain": [
              "((200, 3), (200,))"
            ]
          },
          "metadata": {
            "tags": []
          },
          "execution_count": 154
        }
      ]
    },
    {
      "cell_type": "code",
      "metadata": {
        "id": "aQ8FcAraC-oP",
        "colab_type": "code",
        "outputId": "4b221cb4-175f-43a7-8c38-a111b66b116a",
        "colab": {
          "base_uri": "https://localhost:8080/",
          "height": 282
        }
      },
      "source": [
        "plt.scatter(*X.T[:2, :], c=y)"
      ],
      "execution_count": 155,
      "outputs": [
        {
          "output_type": "execute_result",
          "data": {
            "text/plain": [
              "<matplotlib.collections.PathCollection at 0x7f72f72d2828>"
            ]
          },
          "metadata": {
            "tags": []
          },
          "execution_count": 155
        },
        {
          "output_type": "display_data",
          "data": {
            "image/png": "[encoded data removed]",
            "text/plain": [
              "<Figure size 432x288 with 1 Axes>"
            ]
          },
          "metadata": {
            "tags": [],
            "needs_background": "light"
          }
        }
      ]
    },
    {
      "cell_type": "code",
      "metadata": {
        "id": "UDvFhJjKC3FS",
        "colab_type": "code",
        "colab": {}
      },
      "source": [
        "from sklearn.linear_model import LogisticRegression\n",
        "from sklearn.discriminant_analysis import LinearDiscriminantAnalysis"
      ],
      "execution_count": 0,
      "outputs": []
    },
    {
      "cell_type": "code",
      "metadata": {
        "id": "6CM0iTkjMUZp",
        "colab_type": "code",
        "colab": {}
      },
      "source": [
        "Ns = np.logspace(1, 6, 30)"
      ],
      "execution_count": 0,
      "outputs": []
    },
    {
      "cell_type": "code",
      "metadata": {
        "id": "baJyLvxgD0t6",
        "colab_type": "code",
        "outputId": "5fb416cc-da71-4813-ef63-2cbe88605e42",
        "colab": {
          "base_uri": "https://localhost:8080/",
          "height": 527
        }
      },
      "source": [
        "LDA_results_C = []\n",
        "LR_results_C = []\n",
        "LDA_results_W1 = []\n",
        "LR_results_W1 = []\n",
        "LDA_results_W2 = []\n",
        "LR_results_W2 = []\n",
        "LDA_results_W3 = []\n",
        "LR_results_W3 = []\n",
        "for i, N in enumerate(Ns):\n",
        "  print(i, int(N))\n",
        "  clf_LR = LogisticRegression()\n",
        "  clf_LDA = LinearDiscriminantAnalysis()\n",
        "  X, y = get_dataset(N=int(N), cov_mat=cov_mat, means_1=means_1, means_2=means_2)\n",
        "  clf_LR.fit(X,y)\n",
        "  clf_LDA.fit(X,y)\n",
        "  LDA_results_C.append(clf_LDA.intercept_)\n",
        "  LR_results_C.append(clf_LR.intercept_)\n",
        "  LDA_results_W1.append(clf_LDA.coef_[0,0])\n",
        "  LR_results_W1.append(clf_LR.coef_[0,0])\n",
        "  LDA_results_W2.append(clf_LDA.coef_[0,1])\n",
        "  LR_results_W2.append(clf_LR.coef_[0,1])\n",
        "  LDA_results_W3.append(clf_LDA.coef_[0,2])\n",
        "  LR_results_W3.append(clf_LR.coef_[0,2])"
      ],
      "execution_count": 159,
      "outputs": [
        {
          "output_type": "stream",
          "text": [
            "0 10\n",
            "1 14\n",
            "2 22\n",
            "3 32\n",
            "4 48\n",
            "5 72\n",
            "6 108\n",
            "7 161\n",
            "8 239\n",
            "9 356\n",
            "10 529\n",
            "11 788\n",
            "12 1172\n",
            "13 1743\n",
            "14 2592\n",
            "15 3856\n",
            "16 5736\n",
            "17 8531\n",
            "18 12689\n",
            "19 18873\n",
            "20 28072\n",
            "21 41753\n",
            "22 62101\n",
            "23 92367\n",
            "24 137382\n",
            "25 204335\n",
            "26 303919\n",
            "27 452035\n",
            "28 672335\n",
            "29 1000000\n"
          ],
          "name": "stdout"
        }
      ]
    },
    {
      "cell_type": "code",
      "metadata": {
        "id": "ZuBA5n4QYbZ5",
        "colab_type": "code",
        "colab": {}
      },
      "source": [
        "W1, W2, W3 = -np.linalg.inv(cov_mat).dot((means_1-means_2).reshape(-1,1))\n",
        "C = np.dot((means_1+means_2).reshape(1, -1), np.linalg.inv(cov_mat)).dot(means_1-means_2)/2"
      ],
      "execution_count": 0,
      "outputs": []
    },
    {
      "cell_type": "code",
      "metadata": {
        "id": "-mpqcz_LD7oJ",
        "colab_type": "code",
        "outputId": "507c749f-fb42-4755-9fa6-dfa2ddf1816c",
        "colab": {
          "base_uri": "https://localhost:8080/",
          "height": 285
        }
      },
      "source": [
        "plt.title('Intercept - C')\n",
        "plt.semilogx(Ns, LDA_results_C, label='LDA')\n",
        "plt.semilogx(Ns, LR_results_C, label='Regresión Logística')\n",
        "plt.semilogx(Ns, [C]*len(Ns), label='Teórico')\n",
        "plt.legend()\n",
        "plt.show()"
      ],
      "execution_count": 161,
      "outputs": [
        {
          "output_type": "display_data",
          "data": {
            "image/png": "[encoded data removed]",
            "text/plain": [
              "<Figure size 432x288 with 1 Axes>"
            ]
          },
          "metadata": {
            "tags": [],
            "needs_background": "light"
          }
        }
      ]
    },
    {
      "cell_type": "code",
      "metadata": {
        "id": "smhOIsyDO3QO",
        "colab_type": "code",
        "outputId": "c95f693d-6654-420a-b703-da9006659b65",
        "colab": {
          "base_uri": "https://localhost:8080/",
          "height": 286
        }
      },
      "source": [
        "plt.title('$W_1$')\n",
        "plt.semilogx(Ns, LDA_results_W1, label='LDA')\n",
        "plt.semilogx(Ns, LR_results_W1, label='Regresión Logística')\n",
        "plt.semilogx(Ns, [W1]*len(Ns), label='Teórico')\n",
        "plt.legend()\n",
        "plt.show()"
      ],
      "execution_count": 162,
      "outputs": [
        {
          "output_type": "display_data",
          "data": {
            "image/png": "[encoded data removed]",
            "text/plain": [
              "<Figure size 432x288 with 1 Axes>"
            ]
          },
          "metadata": {
            "tags": [],
            "needs_background": "light"
          }
        }
      ]
    },
    {
      "cell_type": "code",
      "metadata": {
        "id": "qeTdXOahO783",
        "colab_type": "code",
        "outputId": "5cc9554a-b975-4e56-a18b-63cf57907b13",
        "colab": {
          "base_uri": "https://localhost:8080/",
          "height": 286
        }
      },
      "source": [
        "plt.title('$W_2$')\n",
        "plt.semilogx(Ns, LDA_results_W2, label='LDA')\n",
        "plt.semilogx(Ns, LR_results_W2, label='Regresión Logística')\n",
        "plt.semilogx(Ns, [W2]*len(Ns), label='Teórico')\n",
        "plt.legend()\n",
        "plt.show()"
      ],
      "execution_count": 163,
      "outputs": [
        {
          "output_type": "display_data",
          "data": {
            "image/png": "[encoded data removed]",
            "text/plain": [
              "<Figure size 432x288 with 1 Axes>"
            ]
          },
          "metadata": {
            "tags": [],
            "needs_background": "light"
          }
        }
      ]
    },
    {
      "cell_type": "code",
      "metadata": {
        "id": "kwyhTDCJcQVZ",
        "colab_type": "code",
        "colab": {
          "base_uri": "https://localhost:8080/",
          "height": 286
        },
        "outputId": "172d302d-318f-4e4b-8162-e205c0a84b62"
      },
      "source": [
        "plt.title('$W_3$')\n",
        "plt.semilogx(Ns, LDA_results_W3, label='LDA')\n",
        "plt.semilogx(Ns, LR_results_W3, label='Regresión Logística')\n",
        "plt.semilogx(Ns, [W3]*len(Ns), label='Teórico')\n",
        "plt.legend()\n",
        "plt.show()"
      ],
      "execution_count": 149,
      "outputs": [
        {
          "output_type": "display_data",
          "data": {
            "image/png": "[encoded data removed]",
            "text/plain": [
              "<Figure size 432x288 with 1 Axes>"
            ]
          },
          "metadata": {
            "tags": [],
            "needs_background": "light"
          }
        }
      ]
    },
    {
      "cell_type": "code",
      "metadata": {
        "id": "4iqQpFlFE_i8",
        "colab_type": "code",
        "outputId": "18f8fd3c-535c-44b4-841a-929c458e155e",
        "colab": {
          "base_uri": "https://localhost:8080/",
          "height": 34
        }
      },
      "source": [
        "print(clf_LR.coef_, clf_LR.intercept_)"
      ],
      "execution_count": 13,
      "outputs": [
        {
          "output_type": "stream",
          "text": [
            "[[1.14630781 1.14329021]] [-2.28863396]\n"
          ],
          "name": "stdout"
        }
      ]
    },
    {
      "cell_type": "code",
      "metadata": {
        "id": "0IdpiJPhEu9W",
        "colab_type": "code",
        "outputId": "475b85be-72e6-4721-9877-5e1badaf1846",
        "colab": {
          "base_uri": "https://localhost:8080/",
          "height": 34
        }
      },
      "source": [
        "print(clf_LDA.coef_, clf_LDA.intercept_) "
      ],
      "execution_count": 14,
      "outputs": [
        {
          "output_type": "stream",
          "text": [
            "[[1.14807865 1.14207564]] [-2.28956831]\n"
          ],
          "name": "stdout"
        }
      ]
    },
    {
      "cell_type": "code",
      "metadata": {
        "id": "AbnkBo07IRZY",
        "colab_type": "code",
        "outputId": "a63abee5-4751-4f93-b1b5-e80069305fb6",
        "colab": {
          "base_uri": "https://localhost:8080/",
          "height": 68
        }
      },
      "source": [
        "print(clf_LDA.means_, clf_LDA.scalings_)"
      ],
      "execution_count": 15,
      "outputs": [
        {
          "output_type": "stream",
          "text": [
            "[[-0.00654651 -0.00434251]\n",
            " [ 2.00414568  2.00572978]] [[0.53505677]\n",
            " [0.53225909]]\n"
          ],
          "name": "stdout"
        }
      ]
    },
    {
      "cell_type": "code",
      "metadata": {
        "id": "wsoO8kC2F_ci",
        "colab_type": "code",
        "colab": {}
      },
      "source": [
        ""
      ],
      "execution_count": 0,
      "outputs": []
    },
    {
      "cell_type": "code",
      "metadata": {
        "id": "_wpFN7XAJPBl",
        "colab_type": "code",
        "colab": {}
      },
      "source": [
        ""
      ],
      "execution_count": 0,
      "outputs": []
    },
    {
      "cell_type": "code",
      "metadata": {
        "id": "gvdE65rUJPYl",
        "colab_type": "code",
        "colab": {}
      },
      "source": [
        ""
      ],
      "execution_count": 0,
      "outputs": []
    },
    {
      "cell_type": "code",
      "metadata": {
        "id": "quH-PtjCHmvX",
        "colab_type": "code",
        "outputId": "452e5c5d-6e90-4260-fe6d-2e3b48fb9a7c",
        "colab": {
          "base_uri": "https://localhost:8080/",
          "height": 51
        }
      },
      "source": [
        "clf_LDA.scalings_"
      ],
      "execution_count": 0,
      "outputs": [
        {
          "output_type": "execute_result",
          "data": {
            "text/plain": [
              "array([[1.13120008],\n",
              "       [0.04750612]])"
            ]
          },
          "metadata": {
            "tags": []
          },
          "execution_count": 73
        }
      ]
    },
    {
      "cell_type": "code",
      "metadata": {
        "id": "BYOCIibvHnSA",
        "colab_type": "code",
        "outputId": "f0e40840-349b-4958-afc3-02755c9975d8",
        "colab": {
          "base_uri": "https://localhost:8080/",
          "height": 51
        }
      },
      "source": [
        "clf_LDA.means_"
      ],
      "execution_count": 0,
      "outputs": [
        {
          "output_type": "execute_result",
          "data": {
            "text/plain": [
              "array([[-0.08129935, -0.38380169],\n",
              "       [ 1.91870065,  1.61619831]])"
            ]
          },
          "metadata": {
            "tags": []
          },
          "execution_count": 74
        }
      ]
    },
    {
      "cell_type": "code",
      "metadata": {
        "id": "tD75bpyzH35X",
        "colab_type": "code",
        "colab": {}
      },
      "source": [
        ""
      ],
      "execution_count": 0,
      "outputs": []
    }
  ]
}